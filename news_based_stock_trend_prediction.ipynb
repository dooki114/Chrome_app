{
  "nbformat": 4,
  "nbformat_minor": 0,
  "metadata": {
    "colab": {
      "name": "Untitled1.ipynb",
      "provenance": [],
      "authorship_tag": "ABX9TyMU5eTEMj8CuR8psogUmjzf",
      "include_colab_link": true
    },
    "kernelspec": {
      "name": "python3",
      "display_name": "Python 3"
    },
    "language_info": {
      "name": "python"
    }
  },
  "cells": [
    {
      "cell_type": "markdown",
      "metadata": {
        "id": "view-in-github",
        "colab_type": "text"
      },
      "source": [
        "<a href=\"https://colab.research.google.com/github/dooki114/Chrome_app/blob/main/news_based_stock_trend_prediction.ipynb\" target=\"_parent\"><img src=\"https://colab.research.google.com/assets/colab-badge.svg\" alt=\"Open In Colab\"/></a>"
      ]
    },
    {
      "cell_type": "code",
      "execution_count": 1,
      "metadata": {
        "id": "92-edX71VM8h"
      },
      "outputs": [],
      "source": [
        "import pandas as pd\n",
        "from tqdm.notebook import tqdm"
      ]
    },
    {
      "cell_type": "code",
      "source": [
        "import requests\n",
        "from bs4 import BeautifulSoup"
      ],
      "metadata": {
        "id": "UEXTwal_VVqa"
      },
      "execution_count": 2,
      "outputs": []
    },
    {
      "cell_type": "code",
      "source": [
        "url = 'https://finance.naver.com/news/news_list.naver?mode=LSS3D&section_id=101&section_id2=258&section_id3=402'"
      ],
      "metadata": {
        "id": "VDAHdejJVbFU"
      },
      "execution_count": 19,
      "outputs": []
    },
    {
      "cell_type": "code",
      "source": [
        "resp = requests.get(url)\n",
        "resp"
      ],
      "metadata": {
        "colab": {
          "base_uri": "https://localhost:8080/"
        },
        "id": "3ZO3aKYuVezV",
        "outputId": "6678f193-00d2-4fc7-8b58-3a5b5b4955f7"
      },
      "execution_count": 20,
      "outputs": [
        {
          "output_type": "execute_result",
          "data": {
            "text/plain": [
              "<Response [200]>"
            ]
          },
          "metadata": {},
          "execution_count": 20
        }
      ]
    },
    {
      "cell_type": "code",
      "source": [
        "soup = BeautifulSoup(resp.content, 'lxml')\n",
        "dla_tags = soup.select('dl a')\n",
        "dla_tags"
      ],
      "metadata": {
        "colab": {
          "base_uri": "https://localhost:8080/"
        },
        "id": "DImZwYgYVnoi",
        "outputId": "aee9ee91-0e7c-4daa-a2f3-c4b6042087ea"
      },
      "execution_count": 54,
      "outputs": [
        {
          "output_type": "execute_result",
          "data": {
            "text/plain": [
              "[<a href=\"/news/news_read.naver?article_id=0000663526&amp;office_id=031&amp;mode=LSS3D&amp;type=0&amp;section_id=101&amp;section_id2=258&amp;section_id3=401\" title=\"[주간 추천주] 리오픈 비중확대…대한항공·하나투어·YG엔터 '러브콜'\">[주간 추천주] 리오픈 비중확대…대. .</a>,\n",
              " <a href=\"/news/news_read.naver?article_id=0004813419&amp;office_id=014&amp;mode=LSS3D&amp;type=0&amp;section_id=101&amp;section_id2=258&amp;section_id3=401\" title=\"자이언트스텝, '사일로랩' 인수 &quot;미디어아트 사업 확대&quot;\">자이언트스텝, '사일로랩' 인수 \"미. .</a>,\n",
              " <a href=\"/news/news_read.naver?article_id=0005067851&amp;office_id=277&amp;mode=LSS3D&amp;type=0&amp;section_id=101&amp;section_id2=258&amp;section_id3=401\" title='\"에디슨EV 대주주 매도만으로 처벌 어려워\"…차명계좌·통정매매 증거 확보 관건'>\"에디슨EV 대주주 매도만으로 처벌 . .</a>,\n",
              " <a href=\"/news/news_read.naver?article_id=0004037327&amp;office_id=011&amp;mode=LSS3D&amp;type=0&amp;section_id=101&amp;section_id2=258&amp;section_id3=401\" title=\"쌍방울, 쌍용차 인수전 참여…개미 투자자 또 울릴까 [코주부]\">쌍방울, 쌍용차 인수전 참여…개미 . .</a>,\n",
              " <a href=\"/news/news_read.naver?article_id=0005180432&amp;office_id=018&amp;mode=LSS3D&amp;type=0&amp;section_id=101&amp;section_id2=258&amp;section_id3=401\" title=\"잇따른 상장사 횡령…외감법 개정에 사건발생은 감소\">잇따른 상장사 횡령…외감법 개정에 . .</a>,\n",
              " <a href=\"/news/news_read.naver?article_id=0004813411&amp;office_id=014&amp;mode=LSS3D&amp;type=0&amp;section_id=101&amp;section_id2=258&amp;section_id3=401\" title=\"에디슨EV ,주가조작 논란…'대주주' 배불리고 개미만 '피해'\">에디슨EV ,주가조작 논란…'대주주' . .</a>,\n",
              " <a href=\"/news/news_read.naver?article_id=0005067843&amp;office_id=277&amp;mode=LSS3D&amp;type=0&amp;section_id=101&amp;section_id2=258&amp;section_id3=401\" title=\"[주린이가이드] 먹튀 논란에 상폐위기 몰린 에디슨EV…상장폐지란?\">[주린이가이드] 먹튀 논란에 상폐위. .</a>,\n",
              " <a href=\"/news/news_read.naver?article_id=0000141112&amp;office_id=629&amp;mode=LSS3D&amp;type=0&amp;section_id=101&amp;section_id2=258&amp;section_id3=401\" title=\"뉴욕증시, 고용지표 호조에 소폭 상승… 다우 0.40%↑\">뉴욕증시, 고용지표 호조에 소폭 상. .</a>,\n",
              " <a href=\"/news/news_read.naver?article_id=0004813408&amp;office_id=014&amp;mode=LSS3D&amp;type=0&amp;section_id=101&amp;section_id2=258&amp;section_id3=401\" title=\"쌍용차 인수 불발에 관련주 혼돈\">쌍용차 인수 불발에 관련주 혼돈</a>,\n",
              " <a href=\"/news/news_read.naver?article_id=0004813406&amp;office_id=014&amp;mode=LSS3D&amp;type=0&amp;section_id=101&amp;section_id2=258&amp;section_id3=401\" title=\"원텍, 대신밸런스제8호 SPAC과 합병 증권신고서 제출\">원텍, 대신밸런스제8호 SPAC과 합병 . .</a>,\n",
              " <a href=\"javascript:view_newsflash_move('prev');\"><img alt=\"이전 뉴스보기\" height=\"17\" src=\"https://ssl.pstatic.net/static/nfinance/2015/news_ticker_arrow_prev.png\" width=\"17\"/></a>,\n",
              " <a href=\"javascript:view_newsflash_move('next');\"><img alt=\"다음 뉴스보기\" height=\"17\" src=\"https://ssl.pstatic.net/static/nfinance/2015/news_ticker_arrow_next.png\" width=\"17\"/></a>,\n",
              " <a href=\"/news/news_read.naver?article_id=0004813419&amp;office_id=014&amp;mode=LSS3D&amp;type=0&amp;section_id=101&amp;section_id2=258&amp;section_id3=402&amp;date=20220402&amp;page=1\"><img alt=\"\" onerror=\"this.src='https://ssl.pstatic.net/static/nfinance/2017/02/27/thumb_72x54.gif'\" src=\"https://imgnews.pstatic.net/image/thumb70/014/2022/04/02/4813419.jpg\"/></a>,\n",
              " <a href=\"/news/news_read.naver?article_id=0004813419&amp;office_id=014&amp;mode=LSS3D&amp;type=0&amp;section_id=101&amp;section_id2=258&amp;section_id3=402&amp;date=20220402&amp;page=1\" title=\"자이언트스텝, '사일로랩' 인수 &quot;미디어아트 사업 확대&quot;\">자이언트스텝, '사일로랩' 인수 \"미디어아트 사업 확대\"</a>,\n",
              " <a href=\"/news/news_read.naver?article_id=0005067851&amp;office_id=277&amp;mode=LSS3D&amp;type=0&amp;section_id=101&amp;section_id2=258&amp;section_id3=402&amp;date=20220402&amp;page=1\"><img alt=\"\" onerror=\"this.src='https://ssl.pstatic.net/static/nfinance/2017/02/27/thumb_72x54.gif'\" src=\"https://imgnews.pstatic.net/image/thumb70/277/2022/04/02/5067851.jpg\"/></a>,\n",
              " <a href=\"/news/news_read.naver?article_id=0005067851&amp;office_id=277&amp;mode=LSS3D&amp;type=0&amp;section_id=101&amp;section_id2=258&amp;section_id3=402&amp;date=20220402&amp;page=1\" title='\"에디슨EV 대주주 매도만으로 처벌 어려워\"…차명계좌·통정매매 증거 확보 관건'>\"에디슨EV 대주주 매도만으로 처벌 어려워\"…차명계좌·통정매매 증거 확보 관건</a>,\n",
              " <a href=\"/news/news_read.naver?article_id=0004813411&amp;office_id=014&amp;mode=LSS3D&amp;type=0&amp;section_id=101&amp;section_id2=258&amp;section_id3=402&amp;date=20220402&amp;page=1\"><img alt=\"\" onerror=\"this.src='https://ssl.pstatic.net/static/nfinance/2017/02/27/thumb_72x54.gif'\" src=\"https://imgnews.pstatic.net/image/thumb70/014/2022/04/02/4813411.jpg\"/></a>,\n",
              " <a href=\"/news/news_read.naver?article_id=0004813411&amp;office_id=014&amp;mode=LSS3D&amp;type=0&amp;section_id=101&amp;section_id2=258&amp;section_id3=402&amp;date=20220402&amp;page=1\" title=\"에디슨EV ,주가조작 논란…'대주주' 배불리고 개미만 '피해'\">에디슨EV ,주가조작 논란…'대주주' 배불리고 개미만 '피해'</a>,\n",
              " <a href=\"/news/news_read.naver?article_id=0004813408&amp;office_id=014&amp;mode=LSS3D&amp;type=0&amp;section_id=101&amp;section_id2=258&amp;section_id3=402&amp;date=20220402&amp;page=1\"><img alt=\"\" onerror=\"this.src='https://ssl.pstatic.net/static/nfinance/2017/02/27/thumb_72x54.gif'\" src=\"https://imgnews.pstatic.net/image/thumb70/014/2022/04/02/4813408.jpg\"/></a>,\n",
              " <a href=\"/news/news_read.naver?article_id=0004813408&amp;office_id=014&amp;mode=LSS3D&amp;type=0&amp;section_id=101&amp;section_id2=258&amp;section_id3=402&amp;date=20220402&amp;page=1\" title=\"쌍용차 인수 불발에 관련주 혼돈\">쌍용차 인수 불발에 관련주 혼돈</a>,\n",
              " <a href=\"/news/news_read.naver?article_id=0004813406&amp;office_id=014&amp;mode=LSS3D&amp;type=0&amp;section_id=101&amp;section_id2=258&amp;section_id3=402&amp;date=20220402&amp;page=1\"><img alt=\"\" onerror=\"this.src='https://ssl.pstatic.net/static/nfinance/2017/02/27/thumb_72x54.gif'\" src=\"https://imgnews.pstatic.net/image/thumb70/014/2022/04/02/4813406.jpg\"/></a>,\n",
              " <a href=\"/news/news_read.naver?article_id=0004813406&amp;office_id=014&amp;mode=LSS3D&amp;type=0&amp;section_id=101&amp;section_id2=258&amp;section_id3=402&amp;date=20220402&amp;page=1\" title=\"원텍, 대신밸런스제8호 SPAC과 합병 증권신고서 제출\">원텍, 대신밸런스제8호 SPAC과 합병 증권신고서 제출</a>,\n",
              " <a href=\"/news/news_read.naver?article_id=0004681139&amp;office_id=015&amp;mode=LSS3D&amp;type=0&amp;section_id=101&amp;section_id2=258&amp;section_id3=402&amp;date=20220402&amp;page=1\"><img alt=\"\" onerror=\"this.src='https://ssl.pstatic.net/static/nfinance/2017/02/27/thumb_72x54.gif'\" src=\"https://imgnews.pstatic.net/image/thumb70/015/2022/04/02/4681139.jpg\"/></a>,\n",
              " <a href=\"/news/news_read.naver?article_id=0004681139&amp;office_id=015&amp;mode=LSS3D&amp;type=0&amp;section_id=101&amp;section_id2=258&amp;section_id3=402&amp;date=20220402&amp;page=1\" title=\"&quot;삼성전자보다 낫다&quot; 소문에…개미들 1338억원 '몰빵'\">\"삼성전자보다 낫다\" 소문에…개미들 1338억원 '몰빵'</a>,\n",
              " <a href=\"/news/news_read.naver?article_id=0004813401&amp;office_id=014&amp;mode=LSS3D&amp;type=0&amp;section_id=101&amp;section_id2=258&amp;section_id3=402&amp;date=20220402&amp;page=1\"><img alt=\"\" onerror=\"this.src='https://ssl.pstatic.net/static/nfinance/2017/02/27/thumb_72x54.gif'\" src=\"https://imgnews.pstatic.net/image/thumb70/014/2022/04/02/4813401.jpg\"/></a>,\n",
              " <a href=\"/news/news_read.naver?article_id=0004813401&amp;office_id=014&amp;mode=LSS3D&amp;type=0&amp;section_id=101&amp;section_id2=258&amp;section_id3=402&amp;date=20220402&amp;page=1\" title=\"휴톰-서울아산병원 '맞손' 의료형 AI 내비게이션 RUS 연구 박차...부분 신장 절제술 적용\">휴톰-서울아산병원 '맞손' 의료형 AI 내비게이션 RUS 연구 박차...부분 신장 절제술 ..</a>,\n",
              " <a href=\"/news/news_read.naver?article_id=0004037316&amp;office_id=011&amp;mode=LSS3D&amp;type=0&amp;section_id=101&amp;section_id2=258&amp;section_id3=402&amp;date=20220402&amp;page=1\"><img alt=\"\" onerror=\"this.src='https://ssl.pstatic.net/static/nfinance/2017/02/27/thumb_72x54.gif'\" src=\"https://imgnews.pstatic.net/image/thumb70/011/2022/04/02/4037316.jpg\"/></a>,\n",
              " <a href=\"/news/news_read.naver?article_id=0004037316&amp;office_id=011&amp;mode=LSS3D&amp;type=0&amp;section_id=101&amp;section_id2=258&amp;section_id3=402&amp;date=20220402&amp;page=1\" title='[다음주 증시 전망] 1분기 실적 시즌 개막…\"실적 가시성 높은 성장주 주목해야\"'>[다음주 증시 전망] 1분기 실적 시즌 개막…\"실적 가시성 높은 성장주 주목해야\"</a>,\n",
              " <a href=\"/news/news_read.naver?article_id=0005067812&amp;office_id=277&amp;mode=LSS3D&amp;type=0&amp;section_id=101&amp;section_id2=258&amp;section_id3=402&amp;date=20220402&amp;page=1\"><img alt=\"\" onerror=\"this.src='https://ssl.pstatic.net/static/nfinance/2017/02/27/thumb_72x54.gif'\" src=\"https://imgnews.pstatic.net/image/thumb70/277/2022/04/02/5067812.jpg\"/></a>,\n",
              " <a href=\"/news/news_read.naver?article_id=0005067812&amp;office_id=277&amp;mode=LSS3D&amp;type=0&amp;section_id=101&amp;section_id2=258&amp;section_id3=402&amp;date=20220402&amp;page=1\" title='미리 날아오른 항공주…\"리오프닝 수혜 기대감 과도한 반영\"'>미리 날아오른 항공주…\"리오프닝 수혜 기대감 과도한 반영\"</a>,\n",
              " <a href=\"/news/news_read.naver?article_id=0004037295&amp;office_id=011&amp;mode=LSS3D&amp;type=0&amp;section_id=101&amp;section_id2=258&amp;section_id3=402&amp;date=20220402&amp;page=1\" title=\"[기업공시 4월 1일]가온미디어, 50억 규모 자사주 취득 결정 등\">[기업공시 4월 1일]가온미디어, 50억 규모 자사주 취득 결정 등</a>,\n",
              " <a href=\"/news/news_read.naver?article_id=0004681121&amp;office_id=015&amp;mode=LSS3D&amp;type=0&amp;section_id=101&amp;section_id2=258&amp;section_id3=402&amp;date=20220402&amp;page=1\"><img alt=\"\" onerror=\"this.src='https://ssl.pstatic.net/static/nfinance/2017/02/27/thumb_72x54.gif'\" src=\"https://imgnews.pstatic.net/image/thumb70/015/2022/04/02/4681121.jpg\"/></a>,\n",
              " <a href=\"/news/news_read.naver?article_id=0004681121&amp;office_id=015&amp;mode=LSS3D&amp;type=0&amp;section_id=101&amp;section_id2=258&amp;section_id3=402&amp;date=20220402&amp;page=1\" title='\"이변 없었다\"…43조 주택도시기금 OCIO에 미래에셋운용·NH투자증권'>\"이변 없었다\"…43조 주택도시기금 OCIO에 미래에셋운용·NH투자증권</a>,\n",
              " <a href=\"/news/news_read.naver?article_id=0004037251&amp;office_id=011&amp;mode=LSS3D&amp;type=0&amp;section_id=101&amp;section_id2=258&amp;section_id3=402&amp;date=20220402&amp;page=1\"><img alt=\"\" onerror=\"this.src='https://ssl.pstatic.net/static/nfinance/2017/02/27/thumb_72x54.gif'\" src=\"https://imgnews.pstatic.net/image/thumb70/011/2022/04/01/4037251.jpg\"/></a>,\n",
              " <a href=\"/news/news_read.naver?article_id=0004037251&amp;office_id=011&amp;mode=LSS3D&amp;type=0&amp;section_id=101&amp;section_id2=258&amp;section_id3=402&amp;date=20220402&amp;page=1\" title=\"[Why 바이오] 'CAR-T 치료제' 보험 적용 시작에 바이젠셀·유틸렉스 등 개발사에 관심\">[Why 바이오] 'CAR-T 치료제' 보험 적용 시작에 바이젠셀·유틸렉스 등 개발사에 관..</a>,\n",
              " <a href=\"/news/news_read.naver?article_id=0004037240&amp;office_id=011&amp;mode=LSS3D&amp;type=0&amp;section_id=101&amp;section_id2=258&amp;section_id3=402&amp;date=20220402&amp;page=1\"><img alt=\"\" onerror=\"this.src='https://ssl.pstatic.net/static/nfinance/2017/02/27/thumb_72x54.gif'\" src=\"https://imgnews.pstatic.net/image/thumb70/011/2022/04/01/4037240.jpg\"/></a>,\n",
              " <a href=\"/news/news_read.naver?article_id=0004037240&amp;office_id=011&amp;mode=LSS3D&amp;type=0&amp;section_id=101&amp;section_id2=258&amp;section_id3=402&amp;date=20220402&amp;page=1\" title=\"[표]코스닥 기관·외국인·개인 순매수·순매도 상위종목(4월 1일-최종치)\">[표]코스닥 기관·외국인·개인 순매수·순매도 상위종목(4월 1일-최종치)</a>,\n",
              " <a href=\"/news/news_read.naver?article_id=0004037239&amp;office_id=011&amp;mode=LSS3D&amp;type=0&amp;section_id=101&amp;section_id2=258&amp;section_id3=402&amp;date=20220402&amp;page=1\"><img alt=\"\" onerror=\"this.src='https://ssl.pstatic.net/static/nfinance/2017/02/27/thumb_72x54.gif'\" src=\"https://imgnews.pstatic.net/image/thumb70/011/2022/04/01/4037239.jpg\"/></a>,\n",
              " <a href=\"/news/news_read.naver?article_id=0004037239&amp;office_id=011&amp;mode=LSS3D&amp;type=0&amp;section_id=101&amp;section_id2=258&amp;section_id3=402&amp;date=20220402&amp;page=1\" title=\"[표]유가증권 기관·외국인·개인 순매수·순매도 상위종목(4월 1일-최종치)\">[표]유가증권 기관·외국인·개인 순매수·순매도 상위종목(4월 1일-최종치)</a>,\n",
              " <a href=\"/news/news_read.naver?article_id=0004813306&amp;office_id=014&amp;mode=LSS3D&amp;type=0&amp;section_id=101&amp;section_id2=258&amp;section_id3=402&amp;date=20220402&amp;page=1\" title=\"원텍, 대신밸런스제8호 SPAC과 합병 증권신고서 제출\">원텍, 대신밸런스제8호 SPAC과 합병 증권신고서 제출</a>,\n",
              " <a href=\"/news/news_read.naver?article_id=0004681029&amp;office_id=015&amp;mode=LSS3D&amp;type=0&amp;section_id=101&amp;section_id2=258&amp;section_id3=402&amp;date=20220402&amp;page=1\"><img alt=\"\" onerror=\"this.src='https://ssl.pstatic.net/static/nfinance/2017/02/27/thumb_72x54.gif'\" src=\"https://imgnews.pstatic.net/image/thumb70/015/2022/04/01/4681029.jpg\"/></a>,\n",
              " <a href=\"/news/news_read.naver?article_id=0004681029&amp;office_id=015&amp;mode=LSS3D&amp;type=0&amp;section_id=101&amp;section_id2=258&amp;section_id3=402&amp;date=20220402&amp;page=1\" title=\"그린플러스, 그린씨에스 지분 40% 인수\">그린플러스, 그린씨에스 지분 40% 인수</a>,\n",
              " <a href=\"/news/news_read.naver?article_id=0004943741&amp;office_id=009&amp;mode=LSS3D&amp;type=0&amp;section_id=101&amp;section_id2=258&amp;section_id3=402&amp;date=20220402&amp;page=1\" title=\"교직원공제회, 지난해 사상최대 실적 거둬…1조581억원 당기순익\">교직원공제회, 지난해 사상최대 실적 거둬…1조581억원 당기순익</a>,\n",
              " <a href=\"/news/news_read.naver?article_id=0005180265&amp;office_id=018&amp;mode=LSS3D&amp;type=0&amp;section_id=101&amp;section_id2=258&amp;section_id3=402&amp;date=20220402&amp;page=1\" title='체리부로 \"임시주총 소집허가 소송 취하\"'>체리부로 \"임시주총 소집허가 소송 취하\"</a>,\n",
              " <a href=\"/news/news_read.naver?article_id=0004681013&amp;office_id=015&amp;mode=LSS3D&amp;type=0&amp;section_id=101&amp;section_id2=258&amp;section_id3=402&amp;date=20220402&amp;page=1\"><img alt=\"\" onerror=\"this.src='https://ssl.pstatic.net/static/nfinance/2017/02/27/thumb_72x54.gif'\" src=\"https://imgnews.pstatic.net/image/thumb70/015/2022/04/01/4681013.jpg\"/></a>,\n",
              " <a href=\"/news/news_read.naver?article_id=0004681013&amp;office_id=015&amp;mode=LSS3D&amp;type=0&amp;section_id=101&amp;section_id2=258&amp;section_id3=402&amp;date=20220402&amp;page=1\" title=\"삼성운용, 미 ETF 운용사 앰플리파이에 지분 20% 투자\">삼성운용, 미 ETF 운용사 앰플리파이에 지분 20% 투자</a>,\n",
              " <a href=\"/news/news_read.naver?article_id=0005180256&amp;office_id=018&amp;mode=LSS3D&amp;type=0&amp;section_id=101&amp;section_id2=258&amp;section_id3=402&amp;date=20220402&amp;page=1\" title=\"CBI, 66만7259주 신주인수권 행사…발행주식의 1%\">CBI, 66만7259주 신주인수권 행사…발행주식의 1%</a>]"
            ]
          },
          "metadata": {},
          "execution_count": 54
        }
      ]
    },
    {
      "cell_type": "code",
      "source": [
        "dla_tags[0]['title']"
      ],
      "metadata": {
        "colab": {
          "base_uri": "https://localhost:8080/",
          "height": 35
        },
        "id": "zMov2cncW0xs",
        "outputId": "fcd38f99-e172-4e03-c6f1-5983b2085df4"
      },
      "execution_count": 57,
      "outputs": [
        {
          "output_type": "execute_result",
          "data": {
            "text/plain": [
              "\"[주간 추천주] 리오픈 비중확대…대한항공·하나투어·YG엔터 '러브콜'\""
            ],
            "application/vnd.google.colaboratory.intrinsic+json": {
              "type": "string"
            }
          },
          "metadata": {},
          "execution_count": 57
        }
      ]
    },
    {
      "cell_type": "code",
      "source": [
        "dla_tag_titles = []\n",
        "for dla_tag in dla_tags:\n",
        "  try:\n",
        "      dla_tag_titles.append(dla_tag['title'])\n",
        "  except:\n",
        "      pass\n",
        "\n",
        "dla_tag_titles"
      ],
      "metadata": {
        "colab": {
          "base_uri": "https://localhost:8080/"
        },
        "id": "DG0hkHc9VrEK",
        "outputId": "86846832-8eb0-4999-aeb3-237342aa9e03"
      },
      "execution_count": 69,
      "outputs": [
        {
          "output_type": "execute_result",
          "data": {
            "text/plain": [
              "[\"[주간 추천주] 리오픈 비중확대…대한항공·하나투어·YG엔터 '러브콜'\",\n",
              " '자이언트스텝, \\'사일로랩\\' 인수 \"미디어아트 사업 확대\"',\n",
              " '\"에디슨EV 대주주 매도만으로 처벌 어려워\"…차명계좌·통정매매 증거 확보 관건',\n",
              " '쌍방울, 쌍용차 인수전 참여…개미 투자자 또 울릴까 [코주부]',\n",
              " '잇따른 상장사 횡령…외감법 개정에 사건발생은 감소',\n",
              " \"에디슨EV ,주가조작 논란…'대주주' 배불리고 개미만 '피해'\",\n",
              " '[주린이가이드] 먹튀 논란에 상폐위기 몰린 에디슨EV…상장폐지란?',\n",
              " '뉴욕증시, 고용지표 호조에 소폭 상승… 다우 0.40%↑',\n",
              " '쌍용차 인수 불발에 관련주 혼돈',\n",
              " '원텍, 대신밸런스제8호 SPAC과 합병 증권신고서 제출',\n",
              " '자이언트스텝, \\'사일로랩\\' 인수 \"미디어아트 사업 확대\"',\n",
              " '\"에디슨EV 대주주 매도만으로 처벌 어려워\"…차명계좌·통정매매 증거 확보 관건',\n",
              " \"에디슨EV ,주가조작 논란…'대주주' 배불리고 개미만 '피해'\",\n",
              " '쌍용차 인수 불발에 관련주 혼돈',\n",
              " '원텍, 대신밸런스제8호 SPAC과 합병 증권신고서 제출',\n",
              " '\"삼성전자보다 낫다\" 소문에…개미들 1338억원 \\'몰빵\\'',\n",
              " \"휴톰-서울아산병원 '맞손' 의료형 AI 내비게이션 RUS 연구 박차...부분 신장 절제술 적용\",\n",
              " '[다음주 증시 전망] 1분기 실적 시즌 개막…\"실적 가시성 높은 성장주 주목해야\"',\n",
              " '미리 날아오른 항공주…\"리오프닝 수혜 기대감 과도한 반영\"',\n",
              " '[기업공시 4월 1일]가온미디어, 50억 규모 자사주 취득 결정 등',\n",
              " '\"이변 없었다\"…43조 주택도시기금 OCIO에 미래에셋운용·NH투자증권',\n",
              " \"[Why 바이오] 'CAR-T 치료제' 보험 적용 시작에 바이젠셀·유틸렉스 등 개발사에 관심\",\n",
              " '[표]코스닥 기관·외국인·개인 순매수·순매도 상위종목(4월 1일-최종치)',\n",
              " '[표]유가증권 기관·외국인·개인 순매수·순매도 상위종목(4월 1일-최종치)',\n",
              " '원텍, 대신밸런스제8호 SPAC과 합병 증권신고서 제출',\n",
              " '그린플러스, 그린씨에스 지분 40% 인수',\n",
              " '교직원공제회, 지난해 사상최대 실적 거둬…1조581억원 당기순익',\n",
              " '체리부로 \"임시주총 소집허가 소송 취하\"',\n",
              " '삼성운용, 미 ETF 운용사 앰플리파이에 지분 20% 투자',\n",
              " 'CBI, 66만7259주 신주인수권 행사…발행주식의 1%']"
            ]
          },
          "metadata": {},
          "execution_count": 69
        }
      ]
    },
    {
      "cell_type": "code",
      "source": [
        ""
      ],
      "metadata": {
        "id": "bmfrW5MYopZb"
      },
      "execution_count": null,
      "outputs": []
    },
    {
      "cell_type": "code",
      "source": [
        "dt_a_tags[0]['href']"
      ],
      "metadata": {
        "colab": {
          "base_uri": "https://localhost:8080/",
          "height": 54
        },
        "id": "FTFcva8JWF1G",
        "outputId": "02b48211-5830-4b06-d00f-cb26abb0195d"
      },
      "execution_count": 40,
      "outputs": [
        {
          "output_type": "execute_result",
          "data": {
            "text/plain": [
              "'/news/news_read.naver?article_id=0004037295&office_id=011&mode=LSS3D&type=0&section_id=101&section_id2=258&section_id3=402&date=20220402&page=1'"
            ],
            "application/vnd.google.colaboratory.intrinsic+json": {
              "type": "string"
            }
          },
          "metadata": {},
          "execution_count": 40
        }
      ]
    },
    {
      "cell_type": "code",
      "source": [
        "news = {\n",
        "    '제목' : [],\n",
        "    '링크' : []\n",
        "}\n",
        "\n",
        "for dt_a_tag in dt_a_tags:\n",
        "    news['제목'].append(dt_a_tag['title'])\n",
        "    news['링크'].append(dt_a_tag['href'])\n",
        "  \n",
        "news['제목']"
      ],
      "metadata": {
        "colab": {
          "base_uri": "https://localhost:8080/"
        },
        "id": "iKXvuoYDX4Kt",
        "outputId": "cda3a168-2e86-4525-8fc7-b7d2adba3a49"
      },
      "execution_count": 43,
      "outputs": [
        {
          "output_type": "execute_result",
          "data": {
            "text/plain": [
              "['[기업공시 4월 1일]가온미디어, 50억 규모 자사주 취득 결정 등',\n",
              " '원텍, 대신밸런스제8호 SPAC과 합병 증권신고서 제출',\n",
              " '교직원공제회, 지난해 사상최대 실적 거둬…1조581억원 당기순익',\n",
              " '체리부로 \"임시주총 소집허가 소송 취하\"',\n",
              " 'CBI, 66만7259주 신주인수권 행사…발행주식의 1%']"
            ]
          },
          "metadata": {},
          "execution_count": 43
        }
      ]
    },
    {
      "cell_type": "code",
      "source": [
        "!pip install finance-datareader\n"
      ],
      "metadata": {
        "colab": {
          "base_uri": "https://localhost:8080/"
        },
        "id": "XwIzmcqsYO2K",
        "outputId": "5b2cbc81-8c39-443f-8615-6b20acec9c3f"
      },
      "execution_count": 72,
      "outputs": [
        {
          "output_type": "stream",
          "name": "stdout",
          "text": [
            "Collecting finance-datareader\n",
            "  Downloading finance_datareader-0.9.33-py3-none-any.whl (48 kB)\n",
            "\u001b[?25l\r\u001b[K     |██████▊                         | 10 kB 20.9 MB/s eta 0:00:01\r\u001b[K     |█████████████▍                  | 20 kB 21.4 MB/s eta 0:00:01\r\u001b[K     |████████████████████▏           | 30 kB 24.6 MB/s eta 0:00:01\r\u001b[K     |██████████████████████████▉     | 40 kB 22.0 MB/s eta 0:00:01\r\u001b[K     |████████████████████████████████| 48 kB 4.3 MB/s \n",
            "\u001b[?25hCollecting requests-file\n",
            "  Downloading requests_file-1.5.1-py2.py3-none-any.whl (3.7 kB)\n",
            "Requirement already satisfied: pandas>=0.19.2 in /usr/local/lib/python3.7/dist-packages (from finance-datareader) (1.3.5)\n",
            "Requirement already satisfied: tqdm in /usr/local/lib/python3.7/dist-packages (from finance-datareader) (4.63.0)\n",
            "Requirement already satisfied: lxml in /usr/local/lib/python3.7/dist-packages (from finance-datareader) (4.2.6)\n",
            "Requirement already satisfied: requests>=2.3.0 in /usr/local/lib/python3.7/dist-packages (from finance-datareader) (2.23.0)\n",
            "Requirement already satisfied: numpy>=1.17.3 in /usr/local/lib/python3.7/dist-packages (from pandas>=0.19.2->finance-datareader) (1.21.5)\n",
            "Requirement already satisfied: python-dateutil>=2.7.3 in /usr/local/lib/python3.7/dist-packages (from pandas>=0.19.2->finance-datareader) (2.8.2)\n",
            "Requirement already satisfied: pytz>=2017.3 in /usr/local/lib/python3.7/dist-packages (from pandas>=0.19.2->finance-datareader) (2018.9)\n",
            "Requirement already satisfied: six>=1.5 in /usr/local/lib/python3.7/dist-packages (from python-dateutil>=2.7.3->pandas>=0.19.2->finance-datareader) (1.15.0)\n",
            "Requirement already satisfied: idna<3,>=2.5 in /usr/local/lib/python3.7/dist-packages (from requests>=2.3.0->finance-datareader) (2.10)\n",
            "Requirement already satisfied: certifi>=2017.4.17 in /usr/local/lib/python3.7/dist-packages (from requests>=2.3.0->finance-datareader) (2021.10.8)\n",
            "Requirement already satisfied: chardet<4,>=3.0.2 in /usr/local/lib/python3.7/dist-packages (from requests>=2.3.0->finance-datareader) (3.0.4)\n",
            "Requirement already satisfied: urllib3!=1.25.0,!=1.25.1,<1.26,>=1.21.1 in /usr/local/lib/python3.7/dist-packages (from requests>=2.3.0->finance-datareader) (1.24.3)\n",
            "Installing collected packages: requests-file, finance-datareader\n",
            "Successfully installed finance-datareader-0.9.33 requests-file-1.5.1\n"
          ]
        }
      ]
    },
    {
      "cell_type": "code",
      "source": [
        "import FinanceDataReader as fdr"
      ],
      "metadata": {
        "id": "NDDUea0BijQL"
      },
      "execution_count": 73,
      "outputs": []
    },
    {
      "cell_type": "code",
      "source": [
        "url = 'https://kind.krx.co.kr/corpgeneral/corpList.do' \n",
        "kospi_code = pd.read_html(url+\"?method=download&marketType=stockMkt\")[0] \n",
        "kosdaq_code = pd.read_html(url+\"?method=download&marketType=kosdaqMkt\")[0] \n",
        "kospi_code = kospi_code[['회사명','종목코드']] \n",
        "kosdaq_code = kosdaq_code[['회사명','종목코드']]\n",
        "\n",
        "kospi_code['회사명']\n",
        "kosdaq_code['회사명']\n"
      ],
      "metadata": {
        "colab": {
          "base_uri": "https://localhost:8080/"
        },
        "id": "d9WVI8AdioPd",
        "outputId": "bd9e6d6c-0443-4dc1-d72b-e702b66f53be"
      },
      "execution_count": 77,
      "outputs": [
        {
          "output_type": "execute_result",
          "data": {
            "text/plain": [
              "0       CJ 바이오사이언스\n",
              "1             ES큐브\n",
              "2       IBKS제17호스팩\n",
              "3              ISC\n",
              "4             JW신약\n",
              "           ...    \n",
              "1548            한탑\n",
              "1549          현대사료\n",
              "1550        홈센타홀딩스\n",
              "1551        휴맥스홀딩스\n",
              "1552            힘스\n",
              "Name: 회사명, Length: 1553, dtype: object"
            ]
          },
          "metadata": {},
          "execution_count": 77
        }
      ]
    }
  ]
}